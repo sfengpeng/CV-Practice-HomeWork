{
 "cells": [
  {
   "cell_type": "markdown",
   "metadata": {},
   "source": []
  },
  {
   "cell_type": "code",
   "execution_count": 16,
   "metadata": {},
   "outputs": [],
   "source": [
    "import cv2\n",
    "import numpy as np"
   ]
  },
  {
   "cell_type": "code",
   "execution_count": 17,
   "metadata": {},
   "outputs": [],
   "source": [
    "def read_images(img1_path, img2_path):\n",
    "    img1 = cv2.imread(img1_path)\n",
    "    img2 = cv2.imread(img2_path)\n",
    "    return img1, img2\n",
    "\n",
    "def detect_and_match_features(img1, img2):\n",
    "    # 转换为灰度图像\n",
    "    gray1 = cv2.cvtColor(img1, cv2.COLOR_BGR2GRAY)\n",
    "    gray2 = cv2.cvtColor(img2, cv2.COLOR_BGR2GRAY)\n",
    "\n",
    "    # 使用ORB检测关键点和描述符\n",
    "    orb = cv2.ORB_create()\n",
    "    keypoints1, descriptors1 = orb.detectAndCompute(gray1, None)\n",
    "    keypoints2, descriptors2 = orb.detectAndCompute(gray2, None)\n",
    "\n",
    "    # 使用BFMatcher进行特征匹配\n",
    "    bf = cv2.BFMatcher(cv2.NORM_HAMMING, crossCheck=True)\n",
    "    matches = bf.match(descriptors1, descriptors2)\n",
    "\n",
    "    # 根据距离排序匹配点\n",
    "    matches = sorted(matches, key=lambda x: x.distance)\n",
    "    return keypoints1, keypoints2, matches"
   ]
  },
  {
   "cell_type": "code",
   "execution_count": 18,
   "metadata": {},
   "outputs": [],
   "source": [
    "def find_homography(keypoints1, keypoints2, matches):\n",
    "    # 提取匹配点\n",
    "    src_pts = np.float32([keypoints1[m.queryIdx].pt for m in matches]).reshape(-1, 2)\n",
    "    dst_pts = np.float32([keypoints2[m.trainIdx].pt for m in matches]).reshape(-1, 2)\n",
    "\n",
    "    # 计算单应性矩阵并过滤异常点\n",
    "    H, mask = cv2.findHomography(src_pts, dst_pts, cv2.RANSAC, 5.0)\n",
    "    return H, mask\n",
    "\n",
    "def warp_image(img1, img2, H):\n",
    "    height, width, channels = img2.shape\n",
    "    img1_warp = cv2.warpPerspective(img1, H, (width, height))\n",
    "    return img1_warp"
   ]
  },
  {
   "cell_type": "code",
   "execution_count": 19,
   "metadata": {},
   "outputs": [
    {
     "name": "stdout",
     "output_type": "stream",
     "text": [
      "Homography matrix:\n",
      " [[ 1.25498219e-01  1.08953939e-01  3.81390627e+02]\n",
      " [-1.04474658e+00  5.02597690e-01  1.15554058e+03]\n",
      " [-3.10625211e-04 -2.99185477e-05  1.00000000e+00]]\n",
      "Processing complete. Results saved as 'matches.jpg' and 'warped_image.jpg'.\n"
     ]
    }
   ],
   "source": [
    "img1_path = 'x.jpg'\n",
    "img2_path = 'y.jpg'\n",
    "\n",
    "# 读取图片\n",
    "img1, img2 = read_images(img1_path, img2_path)\n",
    "\n",
    "# 检测和匹配特征\n",
    "keypoints1, keypoints2, matches = detect_and_match_features(img1, img2)\n",
    "\n",
    "# 可视化匹配结果\n",
    "img_matches = cv2.drawMatches(img1, keypoints1, img2, keypoints2, matches, None, flags=cv2.DrawMatchesFlags_NOT_DRAW_SINGLE_POINTS)\n",
    "cv2.imwrite('matches.jpg', img_matches)\n",
    "\n",
    "if len(matches) > 4:\n",
    "    # 计算单应性矩阵\n",
    "    H, mask = find_homography(keypoints1, keypoints2, matches)\n",
    "        \n",
    "    if H is not None:\n",
    "        # 打印单应性矩阵\n",
    "        print(\"Homography matrix:\\n\", H)\n",
    "\n",
    "        # 将img1中的点投影到img2中\n",
    "        img1_warp = warp_image(img1, img2, H)\n",
    "\n",
    "        # 保存变换后的图片\n",
    "        cv2.imwrite('warped_image.jpg', img1_warp)\n",
    "    else:\n",
    "        print(\"Homography calculation failed.\")\n",
    "else:\n",
    "    print(\"Not enough matches are found - {}/{}\".format(len(matches), 4))\n",
    "\n",
    "print(\"Processing complete. Results saved as 'matches.jpg' and 'warped_image.jpg'.\")"
   ]
  }
 ],
 "metadata": {
  "kernelspec": {
   "display_name": "pytorch",
   "language": "python",
   "name": "python3"
  },
  "language_info": {
   "codemirror_mode": {
    "name": "ipython",
    "version": 3
   },
   "file_extension": ".py",
   "mimetype": "text/x-python",
   "name": "python",
   "nbconvert_exporter": "python",
   "pygments_lexer": "ipython3",
   "version": "3.9.18"
  }
 },
 "nbformat": 4,
 "nbformat_minor": 2
}
