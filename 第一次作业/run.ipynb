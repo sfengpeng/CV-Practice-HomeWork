{
 "cells": [
  {
   "cell_type": "code",
   "execution_count": 9,
   "metadata": {},
   "outputs": [],
   "source": [
    "import cv2 as cv\n",
    "import numpy as np\n",
    "import os\n",
    "import copy"
   ]
  },
  {
   "cell_type": "code",
   "execution_count": 10,
   "metadata": {},
   "outputs": [],
   "source": [
    "def extractFeature(imgR, imgL, detector=\"sift\", pointsNum=None):\n",
    "    if detector == \"sift\":\n",
    "        feature = cv.xfeatures2d.SIFT_create(pointsNum)\n",
    "    elif detector == \"surf\":\n",
    "        feature = cv.xfeatures2d.SURF_create(pointsNum)\n",
    "    else:\n",
    "        feature = cv.ORB_create(pointsNum)\n",
    "    kpR, desR = feature.detectAndCompute(imgR, None)\n",
    "    kpL, desL = feature.detectAndCompute(imgL, None)\n",
    "    bf = cv.BFMatcher(cv.NORM_L2)\n",
    "    matches = bf.knnMatch(desR, desL, k=2)\n",
    "    return [matches, kpR, kpL]"
   ]
  },
  {
   "cell_type": "code",
   "execution_count": 11,
   "metadata": {},
   "outputs": [],
   "source": [
    "def Optimize(imgL, warpR, imgTmp):\n",
    "    imgRes = imgTmp\n",
    "    alpha = 1\n",
    "    rows, cols = np.where(warpR[:, :, 0] != 0)\n",
    "    start = min(cols)\n",
    "    width = imgL.shape[1] - start\n",
    "    for i in range(imgL.shape[0]):\n",
    "        for j in range(start, imgL.shape[1]):\n",
    "            if warpR[i, j, :].all() == 0:\n",
    "                alpha = 1\n",
    "                # alpha = (width - (j - start)) / width\n",
    "            else:\n",
    "                alpha = (width - (j - start)) / width\n",
    "                # print([j,alpha])\n",
    "            imgRes[i, j, :] = imgL[i, j, :] * alpha + warpR[i, j, :] * (1 - alpha)\n",
    "    return imgRes"
   ]
  },
  {
   "cell_type": "code",
   "execution_count": 13,
   "metadata": {},
   "outputs": [],
   "source": [
    "detector = \"sift\"\n",
    "cwd = os.getcwd()\n",
    "imgR = cv.imread(\"./imgdir/05.jpg\")\n",
    "imgL = cv.imread(\"./imgdir/06.jpg\")\n",
    "imgL = imgL[:,0:235,:]\n",
    "for pNum in range(500, 10000, 500):\n",
    "        # 提取初步特征点\n",
    "    [matches, kpR, kpL] = extractFeature(imgR, imgL, detector=detector, pointsNum=pNum)\n",
    "    good = [m for (m, n) in matches if m.distance < 0.75 * n.distance]  # 获取关键点的坐标\n",
    "    src_pts = np.float32([kpR[m.queryIdx].pt for m in good]).reshape(-1, 1, 2)\n",
    "    dst_pts = np.float32([kpL[m.trainIdx].pt for m in good]).reshape(-1, 1, 2)\n",
    "\n",
    "    H, mask = cv.findHomography(src_pts, dst_pts, cv.RANSAC, 5.0)\n",
    "    # cv.warpPerspective(img,h,(cols,rows))\n",
    "    wrapR = cv.warpPerspective(imgR, H, (imgR.shape[1] + imgL.shape[1], imgL.shape[0]))\n",
    "    imgTmp = copy.deepcopy(wrapR)\n",
    "    imgTmp[0:imgL.shape[0], 0:imgL.shape[1]] = imgL\n",
    "\n",
    "\n",
    "    rows, cols = np.where(imgTmp[:, :, 0] != 0)\n",
    "    min_row, max_row = min(rows), max(rows) + 1\n",
    "    min_col, max_col = min(cols), max(cols) + 1\n",
    "    imgTmp = imgTmp[min_row:max_row, min_col:max_col, :]  # 去除黑色无用部分\n",
    "    # 图像融合\n",
    "    imgRes = Optimize(imgL, wrapR, imgTmp)\n",
    "\n",
    "    #resPath = cwd + \"\\\\\" + detector\n",
    "    resPath = os.path.join(cwd, detector)\n",
    "    image_filename = \"res\" + str(pNum) + \".jpg\"\n",
    "    image_path = os.path.join(resPath, image_filename)\n",
    "    if not os.path.exists(resPath):\n",
    "        os.mkdir(resPath)\n",
    "    #print(imgRes)\n",
    "    cv.imwrite(image_filename, imgRes)"
   ]
  }
 ],
 "metadata": {
  "kernelspec": {
   "display_name": "Python 3",
   "language": "python",
   "name": "python3"
  },
  "language_info": {
   "codemirror_mode": {
    "name": "ipython",
    "version": 3
   },
   "file_extension": ".py",
   "mimetype": "text/x-python",
   "name": "python",
   "nbconvert_exporter": "python",
   "pygments_lexer": "ipython3",
   "version": "3.10.12"
  }
 },
 "nbformat": 4,
 "nbformat_minor": 2
}
